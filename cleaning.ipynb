{
 "cells": [
  {
   "cell_type": "code",
   "execution_count": 1,
   "metadata": {},
   "outputs": [],
   "source": [
    "import pandas as pd\n",
    "\n",
    "d = pd.read_csv('monthly-temperature-anomalies.csv')\n",
    "d2 = pd.read_csv('crop_yields.csv')"
   ]
  },
  {
   "cell_type": "code",
   "execution_count": 2,
   "metadata": {},
   "outputs": [],
   "source": [
    "countries_to_keep = ['Brazil', 'China', 'India', 'Netherlands', 'United States']\n",
    "\n",
    "d_clean = d[d['Entity'].isin(countries_to_keep)]\n",
    "# d_clean.to_csv('d_clean.csv', index=False)"
   ]
  },
  {
   "cell_type": "code",
   "execution_count": 3,
   "metadata": {},
   "outputs": [],
   "source": [
    "yield_columns_to_keep = ['country', 'year', 'wheat_yield_gap', 'rice_yield_gap', 'maize_yield_gap']\n",
    "d2_clean = d2[yield_columns_to_keep]\n",
    "d2_clean = d2_clean[d2_clean['country'].isin(countries_to_keep)]\n",
    "d2_clean.to_csv('cleaned-crop-yields.csv', index=False)"
   ]
  }
 ],
 "metadata": {
  "kernelspec": {
   "display_name": "Python 3",
   "language": "python",
   "name": "python3"
  },
  "language_info": {
   "codemirror_mode": {
    "name": "ipython",
    "version": 3
   },
   "file_extension": ".py",
   "mimetype": "text/x-python",
   "name": "python",
   "nbconvert_exporter": "python",
   "pygments_lexer": "ipython3",
   "version": "3.12.6"
  }
 },
 "nbformat": 4,
 "nbformat_minor": 2
}
